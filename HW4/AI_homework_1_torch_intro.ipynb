{
 "cells": [
  {
   "cell_type": "markdown",
   "metadata": {
    "colab_type": "text",
    "id": "rUbEmuvZJxlI"
   },
   "source": [
    "# PyTorch - homework 1\n"
   ]
  },
  {
   "cell_type": "markdown",
   "metadata": {
    "colab_type": "text",
    "id": "efS07mO7J6AR"
   },
   "source": [
    "Please run the whole notebook with your code and submit the `.ipynb` file that includes your answers. "
   ]
  },
  {
   "cell_type": "code",
   "execution_count": 2,
   "metadata": {
    "colab": {
     "base_uri": "https://localhost:8080/",
     "height": 34
    },
    "colab_type": "code",
    "id": "mJpzFaX0J6Zz",
    "outputId": "33e49695-d65f-4948-f0ea-057c6f3ad787"
   },
   "outputs": [
    {
     "name": "stdout",
     "output_type": "stream",
     "text": [
      "\u001b[31mHomework by Ivan Christian, number: 1003056\u001b[0m\n"
     ]
    }
   ],
   "source": [
    "from termcolor import colored\n",
    "\n",
    "student_name=\"Ivan Christian\"\n",
    "student_number=\"1003056\"\n",
    "\n",
    "print(colored(\"Homework by \"  + student_name + ', number: ' + student_number,'red'))"
   ]
  },
  {
   "cell_type": "markdown",
   "metadata": {
    "colab_type": "text",
    "id": "-xDkwBg8LKQ_"
   },
   "source": [
    " ## Question 1 -- matrix multiplication\n",
    "\n",
    "Implement the following mathematical operation on both the CPU and GPU (use Google Colab or another cloud service if you don't have a GPU in your computer). Print:\n",
    "\n",
    "a) which type of GPU card you have and \n",
    "\n",
    "b) show the computation time for both CPU and GPU (using PyTorch). \n",
    "\n",
    "c) How much % fast is the GPU? \n",
    "\n",
    " The operation to implement is the dot product $C = B * A^T$\n",
    "\n",
    " whereby $A$ is a random matrix of size $30,000 \\times 1000$ and $B$ is a random matrix of size $3000 \\times 1000$. In addition to the required information asked above:\n",
    " \n",
    " d) please also print the resulting two $C$ matrices (they should be the same btw). \n",
    " \n",
    "\n"
   ]
  },
  {
   "cell_type": "code",
   "execution_count": 13,
   "metadata": {
    "colab": {},
    "colab_type": "code",
    "id": "BINvhm-PLKak"
   },
   "outputs": [
    {
     "name": "stdout",
     "output_type": "stream",
     "text": [
      "Type of GPU card I have : GeForce RTX 2060\n",
      "cuda : tensor([[248.1062, 240.4776, 241.2454,  ..., 243.2458, 249.8664, 243.1161],\n",
      "        [259.0164, 250.0684, 250.7742,  ..., 260.2144, 259.7192, 250.1100],\n",
      "        [253.9672, 243.4930, 242.9351,  ..., 246.5738, 248.8045, 242.2562],\n",
      "        ...,\n",
      "        [253.7233, 251.1445, 248.4649,  ..., 249.2613, 250.0822, 249.8918],\n",
      "        [254.9917, 253.2781, 246.0013,  ..., 250.7628, 258.3761, 247.4408],\n",
      "        [254.1429, 247.5288, 244.4548,  ..., 251.1406, 248.9793, 250.9707]],\n",
      "       device='cuda:0'), shape : torch.Size([3000, 30000]), time_elapsed : 177.8775634765625\n",
      "cpu : tensor([[248.1062, 240.4777, 241.2453,  ..., 243.2460, 249.8662, 243.1160],\n",
      "        [259.0164, 250.0682, 250.7744,  ..., 260.2142, 259.7193, 250.1099],\n",
      "        [253.9674, 243.4929, 242.9351,  ..., 246.5737, 248.8043, 242.2562],\n",
      "        ...,\n",
      "        [253.7231, 251.1445, 248.4650,  ..., 249.2615, 250.0822, 249.8916],\n",
      "        [254.9917, 253.2782, 246.0013,  ..., 250.7629, 258.3761, 247.4408],\n",
      "        [254.1429, 247.5288, 244.4549,  ..., 251.1405, 248.9790, 250.9707]]), shape : torch.Size([3000, 30000]), time_elapsed : 462.1639709472656\n",
      "GPU is 159.821397322075% faster\n"
     ]
    }
   ],
   "source": [
    "# implement solution here\n",
    "import torch\n",
    "\n",
    "device_name = torch.cuda.get_device_name(0)\n",
    "\n",
    "print(f'Type of GPU card I have : {device_name}')\n",
    "\n",
    "## Dot product C = B* A.transpose\n",
    "\n",
    "A = torch.rand((30000, 1000))\n",
    "\n",
    "B = torch.rand((3000, 1000))\n",
    "\n",
    "start = torch.cuda.Event(enable_timing=True)\n",
    "end = torch.cuda.Event(enable_timing=True)\n",
    "## GPU \n",
    "\n",
    "device = 'cuda'\n",
    "start.record()\n",
    "C = torch.matmul(B.to(device), torch.transpose(A, 0, 1).to(device))\n",
    "end.record()\n",
    "torch.cuda.synchronize()\n",
    "gpu_time_elapsed = start.elapsed_time(end)\n",
    "\n",
    "print(f'{device} : {C}, shape : {C.shape}, time_elapsed : {gpu_time_elapsed}')\n",
    "\n",
    "## CPU\n",
    "\n",
    "device = 'cpu'\n",
    "start.record()\n",
    "C = torch.matmul(B.to(device), torch.transpose(A, 0, 1).to(device))\n",
    "end.record()\n",
    "torch.cuda.synchronize()\n",
    "cpu_time_elapsed = start.elapsed_time(end)\n",
    "print(f'{device} : {C}, shape : {C.shape}, time_elapsed : {cpu_time_elapsed}')\n",
    "\n",
    "diff = (cpu_time_elapsed - gpu_time_elapsed)/ gpu_time_elapsed\n",
    "\n",
    "print(f'GPU is {diff*100}% faster')"
   ]
  },
  {
   "cell_type": "markdown",
   "metadata": {
    "colab_type": "text",
    "id": "LZJXmfT-yU3g"
   },
   "source": [
    "## Question 2 - grad\n",
    "\n",
    "\n",
    "Find the gradient (partial derivatives) of the function $g(w)$ below. \n",
    "\n",
    "Let  $w=[w_1,w_2]^T$\n",
    "\n",
    "Consider  $g(w)=2w_1w_2+w_2cos(w_1)$\n",
    "\n",
    "a) In PyTorch, compute:   $\\Delta_w g(w)$ \n",
    "\n",
    " and verify that $\\Delta_w g([\\pi,1])=[2,2*\\pi−1]^T$ using the grad function, whereby the first position is the partial for $w_1$ and the second position is the partial for $w_2$. \n",
    "\n",
    "b) You can also write a function to manually calculate these partial derivatives! You can review your differential equations math at [here](https://www.wolframalpha.com/input/?i=derivative+y+cos%28x%29) and implement this is a second function below to verify that it comes to the same solution. \n"
   ]
  },
  {
   "cell_type": "code",
   "execution_count": null,
   "metadata": {
    "colab": {},
    "colab_type": "code",
    "id": "pLjz6_LKt4sc"
   },
   "outputs": [],
   "source": [
    "# write your solution here"
   ]
  },
  {
   "cell_type": "markdown",
   "metadata": {
    "colab_type": "text",
    "id": "rJwP6ur8LKjD"
   },
   "source": [
    "## Question 3 - dance hit song prediction\n",
    "\n",
    "Implement logistic regression in PyTorch for the following dance hit song prediction training dataset: \n",
    "https://dorax.s3.ap-south-1.amazonaws.com/herremans_hit_1030training.csv\n",
    "\n",
    " * Input variables: a number of audio features (most already standardized so don't worry about that)\n",
    " * Target variable: Topclass1030: \n",
    "   * 1 means it was a top 10 hit song; \n",
    "   * 0 means it never went above top 30 position.\n",
    "\n",
    "This dataset is derived from my paper on dance hit song prediction, for full description of features have a look at https://arxiv.org/abs/1905.08076. \n",
    "\n",
    "Print the evolution of the loss every few epochs and train the model until it converges. \n",
    " \n",
    " After training the logistic regression model, calculate the prediction accuracy on the test set: \n",
    " https://dorax.s3.ap-south-1.amazonaws.com/herremans_hit_1030test.csv\n",
    "\n",
    "\n",
    "\n",
    "\n",
    "\n",
    "\n"
   ]
  },
  {
   "cell_type": "code",
   "execution_count": null,
   "metadata": {
    "colab": {},
    "colab_type": "code",
    "id": "VyRP6bl8t4Wc"
   },
   "outputs": [],
   "source": [
    "# Your code here\n",
    "\n",
    "# load data\n",
    "\n",
    "# define logistic regression model\n",
    "\n",
    "# train model\n"
   ]
  },
  {
   "cell_type": "markdown",
   "metadata": {
    "colab_type": "text",
    "id": "vw4yfGoGuChe"
   },
   "source": [
    "Run the below code to test the accuracy of your model on the training set: "
   ]
  },
  {
   "cell_type": "code",
   "execution_count": null,
   "metadata": {
    "colab": {},
    "colab_type": "code",
    "id": "L88WmKtMt5gH"
   },
   "outputs": [],
   "source": [
    "TP import pandas as pd \n",
    "\n",
    "test = pd.read_csv('/content/herremans_hit_1030test.csv')\n",
    "labels = test.iloc[:,-1]\n",
    "test = test.drop('Topclass1030', axis=1)\n",
    "testdata = torch.Tensor(test.values)\n",
    "testlabels = torch.Tensor(labels.values).view(-1,1)\n",
    "\n",
    "TP = 0\n",
    "TN = 0\n",
    "FN = 0\n",
    "FP = 0\n",
    "\n",
    "for i in range(0, testdata.size()[0]): \n",
    "  # print(testdata[i].size())\n",
    "  Xtest = torch.Tensor(testdata[i])\n",
    "  y_hat = logreg_clf(Xtest)\n",
    "  \n",
    "  if y_hat > 0.5:\n",
    "    prediction = 1\n",
    "  else: \n",
    "    prediction = 0\n",
    "\n",
    "  if (prediction == testlabels[i]):\n",
    "    if (prediction == 1):\n",
    "      TP += 1\n",
    "    else: \n",
    "      TN += 1\n",
    "\n",
    "  else:\n",
    "    if (prediction == 1):\n",
    "      FP += 1\n",
    "    else: \n",
    "      FN += 1\n",
    "\n",
    "print(\"True Positives: {0}, True Negatives: {1}\".format(TP, TN))\n",
    "print(\"False Positives: {0}, False Negatives: {1}\".format(FP, FN))\n",
    "rate = TP/(FN+TP)\n",
    "print(\"Class specific accuracy of correctly predicting a hit song is {0}\".format(rate))"
   ]
  }
 ],
 "metadata": {
  "accelerator": "GPU",
  "colab": {
   "collapsed_sections": [],
   "name": "AI homework 1 - torch intro",
   "provenance": [],
   "toc_visible": true
  },
  "kernelspec": {
   "display_name": "Python 3",
   "language": "python",
   "name": "python3"
  },
  "language_info": {
   "codemirror_mode": {
    "name": "ipython",
    "version": 3
   },
   "file_extension": ".py",
   "mimetype": "text/x-python",
   "name": "python",
   "nbconvert_exporter": "python",
   "pygments_lexer": "ipython3",
   "version": "3.7.6"
  }
 },
 "nbformat": 4,
 "nbformat_minor": 1
}
