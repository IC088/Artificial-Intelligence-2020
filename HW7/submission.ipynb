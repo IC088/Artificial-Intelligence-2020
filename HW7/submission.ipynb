{
 "cells": [
  {
   "cell_type": "markdown",
   "metadata": {},
   "source": [
    "# Coding Homework W10/11 Submission by Ng Jia Sheng Jason 1002749"
   ]
  },
  {
   "cell_type": "markdown",
   "metadata": {},
   "source": [
    "## Question 1"
   ]
  },
  {
   "cell_type": "code",
   "execution_count": 30,
   "metadata": {},
   "outputs": [],
   "source": [
    "# load necessary packages\n",
    "import os\n",
    "import torch\n",
    "import matplotlib.pyplot as plt\n",
    "import numpy as np\n",
    "from torchvision import datasets, transforms\n",
    "import guidedbpcodehelpers\n",
    "from imgnetdatastuff import dataset_imagenetvalpart\n",
    "from PIL import Image\n",
    "import glob\n",
    "import pickle"
   ]
  },
  {
   "cell_type": "code",
   "execution_count": 2,
   "metadata": {},
   "outputs": [],
   "source": [
    "# load and transform data\n",
    "data_dir = r\"C:\\Users\\Jason\\Desktop\\SUTD\\Term 8 Last Term\\AI\\Homework\\Week 10\\mnt\\scratch1\\data\\imagespart\"\n",
    "\n",
    "data_transform = transforms.Compose([transforms.RandomResizedCrop(224),\n",
    "                                     transforms.ToTensor(),\n",
    "                                     transforms.Normalize(mean=[0.485, 0.456, 0.406], std=[0.229, 0.224, 0.225])\n",
    "])\n",
    "\n",
    "trainloader = dataset_imagenetvalpart(root_dir = data_dir, maxnum = 0, transform = data_transform)"
   ]
  },
  {
   "cell_type": "code",
   "execution_count": 3,
   "metadata": {},
   "outputs": [],
   "source": [
    "#device = torch.device(\"cuda:0\" if torch.cuda.is_available() else \"cpu\")"
   ]
  },
  {
   "cell_type": "code",
   "execution_count": 25,
   "metadata": {},
   "outputs": [
    {
     "name": "stderr",
     "output_type": "stream",
     "text": [
      "Using cache found in C:\\Users\\Jason/.cache\\torch\\hub\\pytorch_vision_v0.6.0\n",
      "Using cache found in C:\\Users\\Jason/.cache\\torch\\hub\\pytorch_vision_v0.6.0\n"
     ]
    }
   ],
   "source": [
    "# load pre-trained model\n",
    "model1 = torch.hub.load('pytorch/vision:v0.6.0', 'vgg16', pretrained=True)\n",
    "model2 = torch.hub.load('pytorch/vision:v0.6.0', 'vgg16_bn', pretrained=True)"
   ]
  },
  {
   "cell_type": "code",
   "execution_count": 26,
   "metadata": {},
   "outputs": [],
   "source": [
    "# implement parameterized backward hook\n",
    "class backward_hook():\n",
    "    def __init__(self, module):\n",
    "        self.hook = module.register_backward_hook(self.hook_fn)\n",
    "    \n",
    "    def hook_fn(self, module, grad_input, grad_output):\n",
    "        self.norm = grad_output[0].norm()\n",
    "    \n",
    "    def close(self):\n",
    "        self.hook.remove()\n",
    "\n",
    "# register hooks in vgg16\n",
    "vgg16_hooks = [backward_hook(model1.features[0]), backward_hook(model1.features[2])]\n",
    "\n",
    "# register hooks in vgg16_bn\n",
    "vgg16_hooks_bn = [backward_hook(model2.features[0]), backward_hook(model2.features[2])]"
   ]
  },
  {
   "cell_type": "code",
   "execution_count": 24,
   "metadata": {},
   "outputs": [
    {
     "name": "stdout",
     "output_type": "stream",
     "text": [
      "ILSVRC2012_val_00000001\n"
     ]
    }
   ],
   "source": [
    "print(os.path.basename(trainloader[0]['filename']).replace(\".JPEG\",\"\"))"
   ]
  },
  {
   "cell_type": "code",
   "execution_count": null,
   "metadata": {},
   "outputs": [],
   "source": [
    "# run backprog and get norms, save them (for each model)\n",
    "for i in range(0, 251):\n",
    "    image = trainloader[i][\"image\"].unsqueeze(0)\n",
    "    name = os.path.basename(trainloader[i]['filename']).replace(\".JPEG\",\"\")\n",
    "    \n",
    "    # for vgg16\n",
    "    out1 = model1(image)\n",
    "    gradients = torch.ones_like(out1)\n",
    "    out1.backward(gradients)\n",
    "    \n",
    "    with open(r'C:\\Users\\Jason\\Desktop\\SUTD\\Term 8 Last Term\\AI\\Homework\\Week 10\\mnt\\scratch1\\data\\vgg16_grad/' + name + '.pkl' , 'wb') as f:\n",
    "        pickle.dump(vgg16_hooks, f)\n",
    "    \n",
    "    #for vgg16_bn\n",
    "    out2 = model2(image)\n",
    "    gradients = torch.ones_like(out2)\n",
    "    out2.backward(gradients)\n",
    "    \n",
    "    with open(r'C:\\Users\\Jason\\Desktop\\SUTD\\Term 8 Last Term\\AI\\Homework\\Week 10\\mnt\\scratch1\\data\\vgg16_bn_grad/' + name + '.pkl' , 'wb') as g:\n",
    "        pickle.dump(vgg16_hooks_bn, g)\n",
    "    "
   ]
  },
  {
   "cell_type": "code",
   "execution_count": 27,
   "metadata": {},
   "outputs": [
    {
     "ename": "AttributeError",
     "evalue": "'backward_hook' object has no attribute 'norm'",
     "output_type": "error",
     "traceback": [
      "\u001b[1;31m---------------------------------------------------------------------------\u001b[0m",
      "\u001b[1;31mAttributeError\u001b[0m                            Traceback (most recent call last)",
      "\u001b[1;32m<ipython-input-27-7404b6649e97>\u001b[0m in \u001b[0;36m<module>\u001b[1;34m\u001b[0m\n\u001b[1;32m----> 1\u001b[1;33m \u001b[0mprint\u001b[0m\u001b[1;33m(\u001b[0m\u001b[0mvgg16_hooks\u001b[0m\u001b[1;33m[\u001b[0m\u001b[1;36m0\u001b[0m\u001b[1;33m]\u001b[0m\u001b[1;33m.\u001b[0m\u001b[0mnorm\u001b[0m\u001b[1;33m)\u001b[0m\u001b[1;33m\u001b[0m\u001b[1;33m\u001b[0m\u001b[0m\n\u001b[0m",
      "\u001b[1;31mAttributeError\u001b[0m: 'backward_hook' object has no attribute 'norm'"
     ]
    }
   ],
   "source": [
    "print(vgg16_hooks[0].norm)"
   ]
  },
  {
   "cell_type": "markdown",
   "metadata": {},
   "source": [
    "## Question 2"
   ]
  },
  {
   "cell_type": "code",
   "execution_count": null,
   "metadata": {},
   "outputs": [],
   "source": []
  }
 ],
 "metadata": {
  "kernelspec": {
   "display_name": "Python 3",
   "language": "python",
   "name": "python3"
  },
  "language_info": {
   "codemirror_mode": {
    "name": "ipython",
    "version": 3
   },
   "file_extension": ".py",
   "mimetype": "text/x-python",
   "name": "python",
   "nbconvert_exporter": "python",
   "pygments_lexer": "ipython3",
   "version": "3.7.6"
  }
 },
 "nbformat": 4,
 "nbformat_minor": 4
}
